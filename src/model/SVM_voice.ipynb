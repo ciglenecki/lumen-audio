{
 "cells": [
  {
   "cell_type": "code",
   "execution_count": 9,
   "metadata": {},
   "outputs": [],
   "source": [
    "import numpy as np\n",
    "import librosa as lb\n",
    "import glob\n",
    "import os\n",
    "\n",
    "from IPython.display import Audio\n",
    "\n",
    "from sklearn import svm\n",
    "from sklearn.model_selection import train_test_split\n",
    "from sklearn.metrics import accuracy_score\n",
    "from sklearn.metrics import f1_score"
   ]
  },
  {
   "cell_type": "code",
   "execution_count": 2,
   "metadata": {},
   "outputs": [],
   "source": [
    "# Load the training data\n",
    "\n",
    "X_train_init = []\n",
    "y_train_init = []\n",
    "\n",
    "labels = ['cel', 'cla', 'flu', 'gac', 'gel', 'org', 'pia', 'sax', 'tru', 'vio', 'voi']\n",
    "\n",
    "for i, label in enumerate(labels):\n",
    "    train_path = r'.\\Dataset\\Dataset\\IRMAS_Training_Data\\\\' + label\n",
    "    for filename in glob.glob(os.path.join(train_path, '*.wav')):\n",
    "        data, _ = lb.load(filename)\n",
    "        X_train_init.append(data)\n",
    "        y_train_init.append(i)"
   ]
  },
  {
   "cell_type": "code",
   "execution_count": 5,
   "metadata": {},
   "outputs": [
    {
     "name": "stdout",
     "output_type": "stream",
     "text": [
      "(6705, 66150) (6705,)\n"
     ]
    }
   ],
   "source": [
    "# Check if the data is correctly loaded\n",
    "print(np.shape(X_train_init), np.shape(y_train_init))"
   ]
  },
  {
   "cell_type": "code",
   "execution_count": null,
   "metadata": {},
   "outputs": [],
   "source": [
    "# Make mfcc from X and one-hot encoded labels from y\n",
    "X = []\n",
    "y = []\n",
    "\n",
    "for i, x in enumerate(X_train_init):\n",
    "    X.append(lb.feature.mfcc(x, sr=22050).flatten())\n",
    "\n",
    "for i, value in enumerate(y_train_init):\n",
    "    if(value == 10):\n",
    "        y.append(1)\n",
    "    else:\n",
    "        y.append(0)"
   ]
  },
  {
   "cell_type": "code",
   "execution_count": 10,
   "metadata": {},
   "outputs": [],
   "source": [
    "# Split train and test dataset\n",
    "\n",
    "X_train, X_test, y_train, y_test = train_test_split(X, y, train_size=0.80, test_size=0.20, random_state=101)"
   ]
  },
  {
   "cell_type": "code",
   "execution_count": 12,
   "metadata": {},
   "outputs": [],
   "source": [
    "# Create Linear and Polynomial objects from SVM to create two different classifier\n",
    "\n",
    "linear = svm.SVC(kernel='linear', gamma=0.5, C = 1).fit(X_train, y_train)\n",
    "poly = svm.SVC(kernel='poly', degree = 3, C = 1).fit(X_train, y_train)"
   ]
  },
  {
   "cell_type": "code",
   "execution_count": 13,
   "metadata": {},
   "outputs": [],
   "source": [
    "# Calculate the effeciency of two models\n",
    "\n",
    "poly_pred = poly.predict(X_test)\n",
    "linear_pred = linear.predict(X_test)"
   ]
  },
  {
   "cell_type": "code",
   "execution_count": 14,
   "metadata": {},
   "outputs": [
    {
     "name": "stdout",
     "output_type": "stream",
     "text": [
      "Accuracy (Polynomial Kernel):  88.89\n",
      "F1 (Polynomial Kernel):  83.66\n"
     ]
    }
   ],
   "source": [
    "# Result of Polynomial kernel\n",
    "\n",
    "poly_accuracy = accuracy_score(y_test, poly_pred)\n",
    "poly_f1 = f1_score(y_test, poly_pred, average='weighted')\n",
    "print('Accuracy (Polynomial Kernel): ', \"%.2f\" % (poly_accuracy*100))\n",
    "print('F1 (Polynomial Kernel): ', \"%.2f\" % (poly_f1*100))"
   ]
  },
  {
   "cell_type": "code",
   "execution_count": 15,
   "metadata": {},
   "outputs": [
    {
     "name": "stdout",
     "output_type": "stream",
     "text": [
      "Accuracy (Linear Kernel):  83.07\n",
      "F1 (Linear Kernel):  83.38\n"
     ]
    }
   ],
   "source": [
    "# Result of Linear kernel\n",
    "\n",
    "linear_accuracy = accuracy_score(y_test, linear_pred)\n",
    "linear_f1 = f1_score(y_test, linear_pred, average='weighted')\n",
    "print('Accuracy (Linear Kernel): ', \"%.2f\" % (linear_accuracy*100))\n",
    "print('F1 (Linear Kernel): ', \"%.2f\" % (linear_f1*100))"
   ]
  }
 ],
 "metadata": {
  "kernelspec": {
   "display_name": "base",
   "language": "python",
   "name": "python3"
  },
  "language_info": {
   "codemirror_mode": {
    "name": "ipython",
    "version": 3
   },
   "file_extension": ".py",
   "mimetype": "text/x-python",
   "name": "python",
   "nbconvert_exporter": "python",
   "pygments_lexer": "ipython3",
   "version": "3.9.12"
  },
  "orig_nbformat": 4
 },
 "nbformat": 4,
 "nbformat_minor": 2
}
