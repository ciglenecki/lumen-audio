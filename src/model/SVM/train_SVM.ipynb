{
 "cells": [
  {
   "cell_type": "code",
   "execution_count": 1,
   "metadata": {},
   "outputs": [],
   "source": [
    "import numpy as np\n",
    "import librosa as lb\n",
    "import pickle\n",
    "from model_SVM import *"
   ]
  },
  {
   "cell_type": "code",
   "execution_count": 2,
   "metadata": {},
   "outputs": [
    {
     "name": "stdout",
     "output_type": "stream",
     "text": [
      "Training features and labels loaded!\n",
      "Example:\n",
      "X: [-2.03834213e+02  1.65272430e+02 -2.71203651e+01  3.98504753e+01\n",
      "  1.52355738e+01  1.52752247e+01 -5.82818985e+00  1.24469271e+01\n",
      " -2.53585100e+00  5.68161488e+00  2.86470144e-02  4.47464501e-03\n",
      "  2.23200000e+03  1.20789442e+03  1.52517064e+03  2.32513772e+01\n",
      "  2.57816840e+01  2.43512780e+01  2.44582548e+01  2.38234885e+01\n",
      "  2.04741587e+01  2.52746605e+01  6.54243573e-04  6.98350232e-01\n",
      "  5.18728181e-01  4.41854394e-01  1.96658298e-01  2.66243911e+00] \n",
      "y: [1. 0. 0. 0. 0. 0. 0. 0. 0. 0. 0.]\n"
     ]
    }
   ],
   "source": [
    "data = ManageData()\n",
    "#data.LoadTrainFeatures(path = r'C:\\Users\\dragu\\Desktop\\Lumen\\Dataset\\Dataset\\IRMAS_Training_Data_reduced\\*\\*.wav', label_position = 73)\n",
    "data.LoadTrainFeatures()"
   ]
  },
  {
   "cell_type": "code",
   "execution_count": 3,
   "metadata": {},
   "outputs": [
    {
     "name": "stdout",
     "output_type": "stream",
     "text": [
      "Validation features and labels loaded!\n",
      "Example:\n",
      "X: [ 4.24629608e+02  1.57892838e+02 -6.61561127e+01  3.53172836e+01\n",
      " -1.08259525e+01  1.99779091e+01  9.03547859e+00  1.16253910e+01\n",
      " -6.59319687e+00  9.90838528e+00  4.58988983e-02  1.11563884e-01\n",
      "  2.98343434e+03  1.57618474e+03  1.50766778e+03  2.51165358e+01\n",
      "  1.80690291e+01  1.96382736e+01  1.99261764e+01  1.70384129e+01\n",
      "  2.10494327e+01  5.28803644e+01  2.43222667e-03  7.72531224e-01\n",
      "  6.70360129e-01  6.16755698e-01  3.44813168e-01  2.22349119e+00] \n",
      "y: [0. 0. 0. 0. 1. 0. 0. 0. 0. 0. 0.]\n"
     ]
    }
   ],
   "source": [
    "#data.LoadValidationFeatures(r'C:\\Users\\dragu\\Desktop\\Lumen\\Dataset\\Dataset\\IRMAS_Validation_Data_reduced\\*.wav')\n",
    "data.LoadValidationFeatures()"
   ]
  },
  {
   "cell_type": "code",
   "execution_count": null,
   "metadata": {},
   "outputs": [],
   "source": [
    "model = multilabelSVM()\n",
    "model.fit(X=data.X_train, y=data.y_train)"
   ]
  },
  {
   "cell_type": "code",
   "execution_count": 5,
   "metadata": {},
   "outputs": [],
   "source": [
    "# save the model to disk\n",
    "filename = 'SVM_model.sav'\n",
    "pickle.dump(model, open(filename, 'wb'))"
   ]
  },
  {
   "cell_type": "code",
   "execution_count": 6,
   "metadata": {},
   "outputs": [],
   "source": [
    "# load the model from disk\n",
    "#filename = 'SVM_model.sav'\n",
    "#loaded_model = pickle.load(open(filename, 'rb'))"
   ]
  },
  {
   "cell_type": "code",
   "execution_count": 7,
   "metadata": {},
   "outputs": [
    {
     "data": {
      "text/plain": [
       "array([[0., 1., 1., 1., 1., 1., 1., 1., 1., 1., 1.],\n",
       "       [0., 1., 1., 1., 1., 1., 1., 1., 1., 1., 1.],\n",
       "       [0., 1., 1., 1., 1., 1., 1., 1., 1., 1., 1.],\n",
       "       [0., 1., 1., 1., 1., 1., 1., 1., 1., 1., 1.],\n",
       "       [0., 1., 1., 1., 1., 1., 1., 1., 1., 1., 1.],\n",
       "       [0., 1., 1., 1., 1., 1., 1., 1., 1., 1., 1.],\n",
       "       [0., 1., 1., 1., 1., 1., 1., 1., 1., 1., 1.],\n",
       "       [0., 1., 1., 1., 1., 1., 1., 1., 1., 1., 1.],\n",
       "       [0., 1., 1., 1., 1., 1., 1., 1., 1., 1., 1.],\n",
       "       [0., 1., 1., 1., 1., 1., 1., 1., 1., 1., 1.]])"
      ]
     },
     "execution_count": 7,
     "metadata": {},
     "output_type": "execute_result"
    }
   ],
   "source": [
    "prediction = model.predict(X=data.X_val)\n",
    "prediction[:10]"
   ]
  },
  {
   "attachments": {},
   "cell_type": "markdown",
   "metadata": {},
   "source": [
    "# F1 score for each instrument:"
   ]
  },
  {
   "cell_type": "code",
   "execution_count": 8,
   "metadata": {},
   "outputs": [
    {
     "data": {
      "text/plain": [
       "array([0.        , 0.00362319, 0.06643357, 0.17997097, 0.5044586 ,\n",
       "       0.23937008, 0.54006586, 0.40225035, 0.16693419, 0.08637874,\n",
       "       0.51228978])"
      ]
     },
     "execution_count": 8,
     "metadata": {},
     "output_type": "execute_result"
    }
   ],
   "source": [
    "from sklearn.metrics import f1_score\n",
    "f1_score(y_true=data.y_val, y_pred=prediction, average=None)"
   ]
  },
  {
   "attachments": {},
   "cell_type": "markdown",
   "metadata": {},
   "source": [
    "### Micro average"
   ]
  },
  {
   "cell_type": "code",
   "execution_count": 9,
   "metadata": {},
   "outputs": [
    {
     "data": {
      "text/plain": [
       "0.29654371187917516"
      ]
     },
     "execution_count": 9,
     "metadata": {},
     "output_type": "execute_result"
    }
   ],
   "source": [
    "f1_score(y_true=data.y_val, y_pred=prediction, average='micro')"
   ]
  },
  {
   "attachments": {},
   "cell_type": "markdown",
   "metadata": {},
   "source": [
    "### Macro average"
   ]
  },
  {
   "cell_type": "code",
   "execution_count": 10,
   "metadata": {},
   "outputs": [
    {
     "data": {
      "text/plain": [
       "0.24561593864205233"
      ]
     },
     "execution_count": 10,
     "metadata": {},
     "output_type": "execute_result"
    }
   ],
   "source": [
    "f1_score(y_true=data.y_val, y_pred=prediction, average='macro')"
   ]
  }
 ],
 "metadata": {
  "kernelspec": {
   "display_name": "base",
   "language": "python",
   "name": "python3"
  },
  "language_info": {
   "codemirror_mode": {
    "name": "ipython",
    "version": 3
   },
   "file_extension": ".py",
   "mimetype": "text/x-python",
   "name": "python",
   "nbconvert_exporter": "python",
   "pygments_lexer": "ipython3",
   "version": "3.9.12"
  },
  "orig_nbformat": 4,
  "vscode": {
   "interpreter": {
    "hash": "24fd04cf1b8dd920425e0015d5188aceeb51298c945c2fa020872a2219f8b4c9"
   }
  }
 },
 "nbformat": 4,
 "nbformat_minor": 2
}
