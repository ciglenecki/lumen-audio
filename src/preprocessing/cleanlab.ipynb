{
 "cells": [
  {
   "cell_type": "code",
   "execution_count": null,
   "metadata": {},
   "outputs": [],
   "source": [
    "from src.model.model_ast import ASTModelWrapper\n",
    "import librosa\n",
    "import torch\n",
    "import torchaudio\n",
    "from pytorch_lightning.loggers import TensorBoardLogger\n",
    "from transformers import ASTConfig, ASTFeatureExtractor, ASTForAudioClassification, ASTModel\n",
    "from transformers.modeling_outputs import SequenceClassifierOutput\n",
    "import src.config.config_defaults as config_defaults\n",
    "\n",
    "\n",
    "model_name =  config_defaults.DEFAULT_AST_PRETRAINED_TAG\n",
    "num_labels = config_defaults.DEFAULT_NUM_LABELS\n",
    "\n",
    "config = ASTConfig.from_pretrained(\n",
    "\tpretrained_model_name_or_path=model_name,\n",
    ")\n",
    " \n",
    "model = ASTModel.from_pretrained(\n",
    "\tmodel_name,\n",
    "\tconfig=config,\n",
    "\tignore_mismatched_sizes=True,\n",
    ")\n",
    "\n"
   ]
  },
  {
   "cell_type": "code",
   "execution_count": null,
   "metadata": {},
   "outputs": [],
   "source": [
    "from src.data.dataset_irmas import IRMASDatasetTrain\n",
    "import torch.utils.data\n",
    "\n",
    "from src.features.audio_transform import AudioTransformAST\n",
    "\n",
    "audio_transform =  AudioTransformAST(\n",
    "    sampling_rate=config_defaults.DEFAULT_SAMPLING_RATE,\n",
    "    pretrained_tag=config_defaults.DEFAULT_AST_PRETRAINED_TAG,\n",
    "    augmentation_enums=[],\n",
    ")\n",
    "\n",
    "train_dataset = IRMASDatasetTrain(audio_transform=audio_transform)\n",
    "training_loader = torch.utils.data.DataLoader(train_dataset, batch_size=4, shuffle=False)\n",
    "\n",
    "for i, data in enumerate(training_loader):\n",
    "    spectrogram, labels, audio_path = data\n",
    "    features = model.forward(\n",
    "        spectrogram,\n",
    "        output_attentions=False,\n",
    "        return_dict=True,\n",
    "    )\n",
    "    pooled_features = features.pooler_output\n",
    "    "
   ]
  }
 ],
 "metadata": {
  "kernelspec": {
   "display_name": "venv",
   "language": "python",
   "name": "python3"
  },
  "language_info": {
   "codemirror_mode": {
    "name": "ipython",
    "version": 3
   },
   "file_extension": ".py",
   "mimetype": "text/x-python",
   "name": "python",
   "nbconvert_exporter": "python",
   "pygments_lexer": "ipython3",
   "version": "3.10.7"
  }
 },
 "nbformat": 4,
 "nbformat_minor": 2
}
