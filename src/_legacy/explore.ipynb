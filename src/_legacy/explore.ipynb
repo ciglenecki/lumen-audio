{
 "cells": [
  {
   "cell_type": "code",
   "execution_count": null,
   "metadata": {},
   "outputs": [],
   "source": [
    "import os\n",
    "import pathlib\n",
    "\n",
    "import matplotlib.pyplot as plt\n",
    "from config import *\n",
    "\n",
    "from utils_functions import *\n",
    "\n",
    "os.chdir(PATH_WORK_DIR)\n",
    "\n",
    "%load_ext autoreload\n",
    "%autoreload 2"
   ]
  },
  {
   "cell_type": "code",
   "execution_count": null,
   "metadata": {},
   "outputs": [],
   "source": [
    "instruments_size = {k: 0 for k in INSTRUMENT_TO_IDX.keys()}\n",
    "instrument_dirs = [f.path for f in os.scandir(PATH_TRAIN) if f.is_dir()]\n",
    "\n",
    "for instrument_dir in instrument_dirs:\n",
    "    instrument_name = Path(instrument_dir).stem\n",
    "    num_of_files = len(os.listdir(instrument_dir))\n",
    "    instruments_size[instrument_name] = num_of_files\n",
    "\n",
    "instrument_frequency = sorted(instruments_size.items(), key=lambda x: x[1], reverse=True)\n",
    "\n",
    "plt.figure(figsize=(15, 5), facecolor=\"w\")\n",
    "plt.bar(\n",
    "    [INSTRUMENT_TO_FULLNAME[f[0]] for f in instrument_frequency],\n",
    "    [f[1] for f in instrument_frequency],\n",
    ")"
   ]
  },
  {
   "cell_type": "code",
   "execution_count": null,
   "metadata": {},
   "outputs": [],
   "source": [
    "import torch\n",
    "import torchaudio\n",
    "import torchaudio.functional as F\n",
    "import librosa\n",
    "\n",
    "audio_path = \"data/raw/train_sample/vio/001__[vio][nod][cou_fol]2194__1.wav\"\n",
    "audio, orig_sampling_rate = librosa.load(audio_path, sr=None)\n"
   ]
  },
  {
   "cell_type": "code",
   "execution_count": null,
   "metadata": {},
   "outputs": [],
   "source": [
    "import torch\n",
    "from torchmetrics.classification import F1Score\n",
    "target = torch.tensor([0, 1, 0, 1, 0, 1])\n",
    "preds = torch.tensor([0, 0, 1, 1, 0, 1])\n",
    "f1 = F1Score(task=\"multiclass\", num_classes=3, average=None)\n",
    "f1(preds, target)"
   ]
  }
 ],
 "metadata": {
  "kernelspec": {
   "display_name": "venv",
   "language": "python",
   "name": "python3"
  },
  "language_info": {
   "codemirror_mode": {
    "name": "ipython",
    "version": 3
   },
   "file_extension": ".py",
   "mimetype": "text/x-python",
   "name": "python",
   "nbconvert_exporter": "python",
   "pygments_lexer": "ipython3",
   "version": "3.10.6"
  },
  "vscode": {
   "interpreter": {
    "hash": "9e4a389eac86572b0f73ebe39fcbda7d6e3a0a2775dd0cb233d91e1303dd3463"
   }
  }
 },
 "nbformat": 4,
 "nbformat_minor": 2
}
